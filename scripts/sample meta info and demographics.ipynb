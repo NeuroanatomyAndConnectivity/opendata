{
 "cells": [
  {
   "cell_type": "code",
   "execution_count": 1,
   "metadata": {
    "collapsed": false
   },
   "outputs": [
    {
     "name": "stderr",
     "output_type": "stream",
     "text": [
      "/usr/local/lib/python2.7/site-packages/matplotlib/__init__.py:872: UserWarning: axes.color_cycle is deprecated and replaced with axes.prop_cycle; please use the latter.\n",
      "  warnings.warn(self.msg_depr % (key, alt_key))\n"
     ]
    }
   ],
   "source": [
    "% matplotlib inline\n",
    "\n",
    "import pandas as pd\n",
    "import glob, os\n",
    "import numpy as np\n",
    "import shutil\n",
    "import matplotlib.pyplot as plt\n",
    "import seaborn as sns\n",
    "\n",
    "sns.set_style('whitegrid')\n",
    "sns.set_context('talk')"
   ]
  },
  {
   "cell_type": "markdown",
   "metadata": {},
   "source": [
    "## Prepare and merge meta information"
   ]
  },
  {
   "cell_type": "code",
   "execution_count": 2,
   "metadata": {
    "collapsed": false
   },
   "outputs": [
    {
     "name": "stderr",
     "output_type": "stream",
     "text": [
      "/Applications/miniconda3/envs/topography/lib/python2.7/site-packages/ipykernel/__main__.py:23: SettingWithCopyWarning: \n",
      "A value is trying to be set on a copy of a slice from a DataFrame\n",
      "\n",
      "See the caveats in the documentation: http://pandas.pydata.org/pandas-docs/stable/indexing.html#indexing-view-versus-copy\n",
      "/Applications/miniconda3/envs/topography/lib/python2.7/site-packages/ipykernel/__main__.py:24: SettingWithCopyWarning: \n",
      "A value is trying to be set on a copy of a slice from a DataFrame\n",
      "\n",
      "See the caveats in the documentation: http://pandas.pydata.org/pandas-docs/stable/indexing.html#indexing-view-versus-copy\n",
      "/Applications/miniconda3/envs/topography/lib/python2.7/site-packages/ipykernel/__main__.py:62: SettingWithCopyWarning: \n",
      "A value is trying to be set on a copy of a slice from a DataFrame\n",
      "\n",
      "See the caveats in the documentation: http://pandas.pydata.org/pandas-docs/stable/indexing.html#indexing-view-versus-copy\n",
      "/Applications/miniconda3/envs/topography/lib/python2.7/site-packages/ipykernel/__main__.py:63: SettingWithCopyWarning: \n",
      "A value is trying to be set on a copy of a slice from a DataFrame\n",
      "\n",
      "See the caveats in the documentation: http://pandas.pydata.org/pandas-docs/stable/indexing.html#indexing-view-versus-copy\n"
     ]
    }
   ],
   "source": [
    "# doc_dir = '/nobackup/adenauer2/LSD/Originals/Documentation'\n",
    "doc_dir = '/Users/dmargulies/Downloads'\n",
    "\n",
    "# study B\n",
    "df_lsd = pd.read_csv('%s/meta_lsd_restricted_20170315.csv' % doc_dir,\n",
    "                      dtype={'ids':str})\n",
    "\n",
    "# study A\n",
    "df_lemon1 = pd.read_excel('%s/meta1_lemon_restricted_20170321.xls' % doc_dir)\n",
    "\n",
    "df_lemon1.rename(columns={'BIDS ID': 'ids',\n",
    "                          'Gender': 'gender',\n",
    "                          'Age': 'age'}, inplace=True)\n",
    "df_lemon1[['ids']] = df_lemon1[['ids']].astype(str)\n",
    "d = {'F':1, 'M':2, 'f':1, 'm':2}\n",
    "df_lemon1.replace({'gender': d}, inplace=True)\n",
    "\n",
    "\n",
    "# merge gender/age\n",
    "df = pd.merge(df_lsd, df_lemon1, on='ids', how='outer')\n",
    "\n",
    "# gender\n",
    "df['gender_x'][df['gender_x'].isnull()] = df['gender_y'][df['gender_x'].isnull()]\n",
    "df['gender_y'][df['gender_y'].isnull()] = df['gender_x'][df['gender_y'].isnull()]\n",
    "df['gender'] = df['gender_x'].astype(int)\n",
    "\n",
    "# age\n",
    "cols_age = ['age day 1', 'age day 2', 'age day 3', 'age day 4',\n",
    "            'age day 5a', 'age day 5b', 'age day 6', 'age LEMON', 'age']\n",
    "\n",
    "df['mean age'] = df[cols_age].mean(axis=1)\n",
    "\n",
    "age_bins = [20, 25, 30, 35, 40, 45, 50, \n",
    "            55, 60, 65, 70, 75, 80, 85]\n",
    "age_labels = ['20-25', '25-30', '30-35', '35-40', \n",
    "              '40-45', '45-50', '50-55', '55-60', \n",
    "              '60-65', '65-70', '70-75', '75-80', '80-85']\n",
    "\n",
    "df['age (5-year bins)'] = pd.cut(df['mean age'], age_bins, labels=age_labels)\n",
    "\n",
    "# clean df\n",
    "df_meta = df[['ids', 'gender', 'age (5-year bins)', 'mean age',\n",
    "              'SKID diagnose 1', 'SKID diagnose 2',\n",
    "              'drug test 1 (before first MRI measurement)',\n",
    "              'drug test 2 (before 4 resting state scans)']]\n",
    "\n",
    "\n",
    "# SKID and drug test\n",
    "df_lemon2 = pd.read_csv('%s/meta2_lemon_restricted_20170315.csv' % doc_dir, dtype = {'ID':str})\n",
    "df_lemon2.rename(columns={'ID': 'ids'}, inplace=True)\n",
    "\n",
    "# merge\n",
    "df_meta = pd.merge(df_meta, \n",
    "                   df_lemon2[['ids', 'DRUG', 'SKID_Diagnoses 1', 'SKID_Diagnoses 2']], \n",
    "                   on=('ids'), how='outer')\n",
    "\n",
    "df_meta['ids'] = df_meta['ids'].map(lambda x: '0'+x)\n",
    "\n",
    "# SKID: reporting lemon by default, only if no lemon skid available, report our skid\n",
    "# us: 'SKID diagnose 1', 'SKID diagnose 2'\n",
    "# lemon: 'SKID_Diagnoses 1', 'SKID_Diagnoses 2' \n",
    "df_meta['SKID_Diagnoses 1'][df_meta['SKID_Diagnoses 1'].isnull()] = df_meta['SKID diagnose 1'][df_meta['SKID_Diagnoses 1'].isnull()]\n",
    "df_meta['SKID_Diagnoses 2'][df_meta['SKID_Diagnoses 2'].isnull()] = df_meta['SKID diagnose 2'][df_meta['SKID_Diagnoses 2'].isnull()]\n",
    "\n",
    "df_meta.rename(columns={'SKID_Diagnoses 1': 'SKID diagnosis 1',\n",
    "                        'SKID_Diagnoses 2': 'SKID diagnosis 2'}, inplace=True)\n",
    "\n",
    "# drug test\n",
    "df_meta[['drug test 1 (before first MRI measurement)']] = df_meta[['DRUG']]"
   ]
  },
  {
   "cell_type": "code",
   "execution_count": 3,
   "metadata": {
    "collapsed": false
   },
   "outputs": [
    {
     "data": {
      "text/plain": [
       "\"\\n# study progress\\n\\n# (interval between days) \\n# won't be reported in main meta file\\n# will be provided upon request\\n\\n# Questionnaire set 1 (institute)\\nfileA = '/nobackup/adenauer2/LSD/Originals/Raw/Questionnaires/surveyA_151013.csv'\\ndf_A = pd.read_csv(fileA)\\ndf_A['ids'] = df_A['ID'].map(lambda x: str(x)[0:5])\\ndf_A['B Quest set 1'] = pd.to_datetime(df_A['datestamp'], format='%Y-%m-%d %H:%M:%S')\\n\\n# Questionnaire set 2 (home)\\nfileB = '/nobackup/adenauer2/LSD/Originals/Raw/Questionnaires/surveyB_151013.csv'\\ndf_B = pd.read_csv(fileB)\\ndf_B['ids'] = df_B['ID'].map(lambda x: str(x)[0:5])    \\ndf_B['B Quest set 2'] = pd.to_datetime(df_B['datestamp'], format='%Y-%m-%d %H:%M:%S')\\ndf = pd.merge(df_A[['ids', 'B Quest set 1']], df_B[['ids', 'B Quest set 2']], on=['ids'], how='outer')\\ndel df_A, df_B\\n\\n# Questionnaire set 3 (scanning day)\\nfileC_active = '/nobackup/adenauer2/LSD/Originals/Raw/Questionnaires/surveyCactive_151013.csv'\\nfileC_inactive = '/nobackup/adenauer2/LSD/Originals/Raw/Questionnaires/surveyCinactive_151013.csv'\\nfileC_corrected = '/nobackup/adenauer2/LSD/Originals/Raw/Questionnaires/surveyCcorrected_151013.csv'\\ndf_C_active = pd.read_csv(fileC_active)\\ndf_C_inactive = pd.read_csv(fileC_inactive)\\ndf_C_corrected = pd.read_csv(fileC_corrected)\\ndf_C = pd.concat([df_C_active, df_C_inactive, df_C_corrected])\\ndf_C['ids'] = df_C['ID'].map(lambda x: str(x)[0:5])\\ndf_C['B Quest set 3'] = pd.to_datetime(df_C['datestamp'], format='%Y-%m-%d %H:%M:%S')\\ndf = pd.merge(df, df_C[['ids', 'B Quest set 3']], on=['ids'], how='outer')\\ndel df_C\\n    \\n# Questionnaire set 4 (lemon catch up for newbies)\\nfileF = '/nobackup/adenauer2/LSD/Originals/Raw/Questionnaires/surveyF_151013.csv'\\ndf_F = pd.read_csv(fileF)\\ndf_F['ids'] = df_F['ID'].map(lambda x: str(x)[0:5])\\ndf_F['B Quest set 4a'] = pd.to_datetime(df_F['datestamp'], format='%Y-%m-%d %H:%M:%S')\\ndf = pd.merge(df, df_F[['ids', 'B Quest set 4a']], on=['ids'], how='outer')\\ndel df_F\\n\\n# Questionnaire set 4 (AMAS) \\nfileG = '/nobackup/adenauer2/LSD/Originals/Raw/Questionnaires/surveyG_151013.csv'\\ndf_G = pd.read_csv(fileG)\\ndf_G['ids'] = df_G['ID'].map(lambda x: str(x)[0:5])\\ndf_G['B Quest set 4b'] = pd.to_datetime(df_G['datestamp'], format='%Y-%m-%d %H:%M:%S')\\ndf = pd.merge(df, df_G[['ids', 'B Quest set 4b']], on=['ids'], how='outer')\\ndel df_G\\n\\n# merge Q set 4\\ndf['B Quest set 4'] = df['B Quest set 4a']\\ndf['B Quest set 4'][df['B Quest set 4'].isnull()] = df['B Quest set 4b'][df['B Quest set 4'].isnull()]\\n\\n# Questionnaire set 5 (creativity, metacogn.)\\nfileCreativity = '/nobackup/adenauer2/LSD/Originals/Raw/Questionnaires/survey_creativity_metacog.csv'\\ndf_cr = pd.read_csv(fileCreativity)\\ndf_cr['ids'] = df_cr['IDcode'].map(lambda x: str(x)[0:5])\\ndf_cr['B Quest set 5'] = pd.to_datetime(df_cr['datestamp'], format='%m/%d/%Y %H:%M:%S')\\ndf = pd.merge(df, df_cr[['ids', 'B Quest set 5']], on=['ids'], how='outer')\\ndel df_cr\\n\\n# oddball task\\nfileHannes = '/nobackup/adenauer2/LSD/Originals/Documentation/meta/Participants_List_LargeScaleProject - Test_phase#4_20151215.csv'\\ndf_hannes = pd.read_csv(fileHannes, parse_dates=['test day'])\\ndf_hannes = df_hannes[df_hannes['done'] == '1']\\ndf_hannes['ids'] = df_hannes['DB_ID'].map(lambda x: str(x)[0:5])\\ndf_hannes['B Test set 1'] = pd.to_datetime(df_hannes['test day'], format='%d.%m.%Y')\\ndf = pd.merge(df, df_hannes[['ids', 'B Test set 1']], on=['ids'], how='outer')\\ndel df_hannes\\n\\n# cogn tasks (lemon catch up)\\nfileCognTests = '/nobackup/adenauer2/LSD/Originals/Documentation/meta/Participants_List_LargeScaleProject - Test_phase#6_20151215.csv'\\ndf_cogntests = pd.read_csv(fileCognTests, converters={'done':str}, parse_dates=['test day'])\\ndf_cogntests = df_cogntests[df_cogntests['done'] == '1']\\ndf_cogntests['ids'] = df_cogntests['DB_ID'].map(lambda x: str(x)[0:5])\\ndf_cogntests['B Test set 2'] = pd.to_datetime(df_cogntests['test day'], format='%d.%m.%Y')\\ndf = pd.merge(df, df_cogntests[['ids', 'B Test set 2']], on=['ids'], how='outer')\\ndel df_cogntests\\n\\n# lemon days\\nfileLemon = '/nobackup/adenauer2/LSD/Originals/Documentation/meta/LEMON appointments_20151216.csv'\\ndf_lemon = pd.read_csv(fileLemon, parse_dates=['lemon1'], dayfirst=True)\\ndf_lemon['ids'] = df_lemon['ids'].map(lambda x: str(x)[0:5])    \\ndf_lemon['A day 1'] = df_lemon['lemon1']\\ndf = pd.merge(df, df_lemon[['ids', 'A day 1']], on=['ids'], how='outer')\\n\\ndf_lemon = pd.read_csv(fileLemon, parse_dates=['lemon2'], dayfirst=True)\\ndf_lemon['ids'] = df_lemon['ids'].map(lambda x: str(x)[0:5])\\ndf_lemon['A day 2'] = df_lemon['lemon2']\\ndf = pd.merge(df, df_lemon[['ids', 'A day 2']], on=['ids'], how='outer')\\n\\ndf_lemon = pd.read_csv(fileLemon, parse_dates=['lemon3'], dayfirst=True)\\ndf_lemon['ids'] = df_lemon['ids'].map(lambda x: str(x)[0:5])\\ndf_lemon['A day 3'] = df_lemon['lemon3']\\ndf = pd.merge(df, df_lemon[['ids', 'A day 3']], on=['ids'], how='outer')\\ndel df_lemon\\n\\n# calculate time interval between scanning and other surveys\\ndf['B scanning day'] = df['B Quest set 3']\\ndf['B Quest set 1'] = (pd.Series(df['B Quest set 1'] - df['B scanning day']).dt.days/7).round()\\ndf['B Quest set 2'] = (pd.Series(df['B Quest set 2'] - df['B scanning day']).dt.days/7).round()\\ndf['B Quest set 3'] = (pd.Series(df['B Quest set 3'] - df['B scanning day']).dt.days/7).round()\\ndf['B Quest set 4'] = (pd.Series(df['B Quest set 4'] - df['B scanning day']).dt.days/7).round()\\ndf['B Quest set 5'] = (pd.Series(df['B Quest set 5'] - df['B scanning day']).dt.days/7).round()\\ndf['B Test set 1'] = (pd.Series(df['B Test set 1'] - df['B scanning day']).dt.days/7).round()\\ndf['B Test set 2'] = (pd.Series(df['B Test set 2'] - df['B scanning day']).dt.days/7).round()\\n\\n# day of lemon scan\\ndf['A scanning day'] = df['A day 1']\\ndf['A day 1'] = (pd.Series(df['A day 1'] - df['A scanning day']).dt.days/7).round()\\ndf['A day 2'] = (pd.Series(df['A day 2'] - df['A scanning day']).dt.days/7).round()\\ndf['A day 3'] = (pd.Series(df['A day 3'] - df['A scanning day']).dt.days/7).round()\\n\\n# rename IDs\\nconverter = pd.read_excel('/nobackup/adenauer2/LSD/Originals/Documentation/lookup_table.xlsx',\\n                                  converters={'ids_probanden_db' : str, 'ids_xnat_publicp' : str})\\nconverter_dict = dict(zip(converter['ids_probanden_db'], converter['ids_xnat_publicp']))\\ndf.replace({'ids':converter_dict}, inplace=True)\\n\\ndf_meta = pd.merge(df_meta, df[['ids', 'B Quest set 1', 'B Quest set 2',\\n                                'B Quest set 3', 'B Quest set 4', 'B Quest set 5', \\n                                'B Test set 1', 'B Test set 2', \\n                                'A day 1', 'A day 2', 'A day 3']], \\n                   on='ids', how='left')\\n\""
      ]
     },
     "execution_count": 3,
     "metadata": {},
     "output_type": "execute_result"
    }
   ],
   "source": [
    "'''\n",
    "# study progress\n",
    "\n",
    "# (interval between days) \n",
    "# won't be reported in main meta file\n",
    "# will be provided upon request\n",
    "\n",
    "# Questionnaire set 1 (institute)\n",
    "fileA = '/nobackup/adenauer2/LSD/Originals/Raw/Questionnaires/surveyA_151013.csv'\n",
    "df_A = pd.read_csv(fileA)\n",
    "df_A['ids'] = df_A['ID'].map(lambda x: str(x)[0:5])\n",
    "df_A['B Quest set 1'] = pd.to_datetime(df_A['datestamp'], format='%Y-%m-%d %H:%M:%S')\n",
    "\n",
    "# Questionnaire set 2 (home)\n",
    "fileB = '/nobackup/adenauer2/LSD/Originals/Raw/Questionnaires/surveyB_151013.csv'\n",
    "df_B = pd.read_csv(fileB)\n",
    "df_B['ids'] = df_B['ID'].map(lambda x: str(x)[0:5])    \n",
    "df_B['B Quest set 2'] = pd.to_datetime(df_B['datestamp'], format='%Y-%m-%d %H:%M:%S')\n",
    "df = pd.merge(df_A[['ids', 'B Quest set 1']], df_B[['ids', 'B Quest set 2']], on=['ids'], how='outer')\n",
    "del df_A, df_B\n",
    "\n",
    "# Questionnaire set 3 (scanning day)\n",
    "fileC_active = '/nobackup/adenauer2/LSD/Originals/Raw/Questionnaires/surveyCactive_151013.csv'\n",
    "fileC_inactive = '/nobackup/adenauer2/LSD/Originals/Raw/Questionnaires/surveyCinactive_151013.csv'\n",
    "fileC_corrected = '/nobackup/adenauer2/LSD/Originals/Raw/Questionnaires/surveyCcorrected_151013.csv'\n",
    "df_C_active = pd.read_csv(fileC_active)\n",
    "df_C_inactive = pd.read_csv(fileC_inactive)\n",
    "df_C_corrected = pd.read_csv(fileC_corrected)\n",
    "df_C = pd.concat([df_C_active, df_C_inactive, df_C_corrected])\n",
    "df_C['ids'] = df_C['ID'].map(lambda x: str(x)[0:5])\n",
    "df_C['B Quest set 3'] = pd.to_datetime(df_C['datestamp'], format='%Y-%m-%d %H:%M:%S')\n",
    "df = pd.merge(df, df_C[['ids', 'B Quest set 3']], on=['ids'], how='outer')\n",
    "del df_C\n",
    "    \n",
    "# Questionnaire set 4 (lemon catch up for newbies)\n",
    "fileF = '/nobackup/adenauer2/LSD/Originals/Raw/Questionnaires/surveyF_151013.csv'\n",
    "df_F = pd.read_csv(fileF)\n",
    "df_F['ids'] = df_F['ID'].map(lambda x: str(x)[0:5])\n",
    "df_F['B Quest set 4a'] = pd.to_datetime(df_F['datestamp'], format='%Y-%m-%d %H:%M:%S')\n",
    "df = pd.merge(df, df_F[['ids', 'B Quest set 4a']], on=['ids'], how='outer')\n",
    "del df_F\n",
    "\n",
    "# Questionnaire set 4 (AMAS) \n",
    "fileG = '/nobackup/adenauer2/LSD/Originals/Raw/Questionnaires/surveyG_151013.csv'\n",
    "df_G = pd.read_csv(fileG)\n",
    "df_G['ids'] = df_G['ID'].map(lambda x: str(x)[0:5])\n",
    "df_G['B Quest set 4b'] = pd.to_datetime(df_G['datestamp'], format='%Y-%m-%d %H:%M:%S')\n",
    "df = pd.merge(df, df_G[['ids', 'B Quest set 4b']], on=['ids'], how='outer')\n",
    "del df_G\n",
    "\n",
    "# merge Q set 4\n",
    "df['B Quest set 4'] = df['B Quest set 4a']\n",
    "df['B Quest set 4'][df['B Quest set 4'].isnull()] = df['B Quest set 4b'][df['B Quest set 4'].isnull()]\n",
    "\n",
    "# Questionnaire set 5 (creativity, metacogn.)\n",
    "fileCreativity = '/nobackup/adenauer2/LSD/Originals/Raw/Questionnaires/survey_creativity_metacog.csv'\n",
    "df_cr = pd.read_csv(fileCreativity)\n",
    "df_cr['ids'] = df_cr['IDcode'].map(lambda x: str(x)[0:5])\n",
    "df_cr['B Quest set 5'] = pd.to_datetime(df_cr['datestamp'], format='%m/%d/%Y %H:%M:%S')\n",
    "df = pd.merge(df, df_cr[['ids', 'B Quest set 5']], on=['ids'], how='outer')\n",
    "del df_cr\n",
    "\n",
    "# oddball task\n",
    "fileHannes = '/nobackup/adenauer2/LSD/Originals/Documentation/meta/Participants_List_LargeScaleProject - Test_phase#4_20151215.csv'\n",
    "df_hannes = pd.read_csv(fileHannes, parse_dates=['test day'])\n",
    "df_hannes = df_hannes[df_hannes['done'] == '1']\n",
    "df_hannes['ids'] = df_hannes['DB_ID'].map(lambda x: str(x)[0:5])\n",
    "df_hannes['B Test set 1'] = pd.to_datetime(df_hannes['test day'], format='%d.%m.%Y')\n",
    "df = pd.merge(df, df_hannes[['ids', 'B Test set 1']], on=['ids'], how='outer')\n",
    "del df_hannes\n",
    "\n",
    "# cogn tasks (lemon catch up)\n",
    "fileCognTests = '/nobackup/adenauer2/LSD/Originals/Documentation/meta/Participants_List_LargeScaleProject - Test_phase#6_20151215.csv'\n",
    "df_cogntests = pd.read_csv(fileCognTests, converters={'done':str}, parse_dates=['test day'])\n",
    "df_cogntests = df_cogntests[df_cogntests['done'] == '1']\n",
    "df_cogntests['ids'] = df_cogntests['DB_ID'].map(lambda x: str(x)[0:5])\n",
    "df_cogntests['B Test set 2'] = pd.to_datetime(df_cogntests['test day'], format='%d.%m.%Y')\n",
    "df = pd.merge(df, df_cogntests[['ids', 'B Test set 2']], on=['ids'], how='outer')\n",
    "del df_cogntests\n",
    "\n",
    "# lemon days\n",
    "fileLemon = '/nobackup/adenauer2/LSD/Originals/Documentation/meta/LEMON appointments_20151216.csv'\n",
    "df_lemon = pd.read_csv(fileLemon, parse_dates=['lemon1'], dayfirst=True)\n",
    "df_lemon['ids'] = df_lemon['ids'].map(lambda x: str(x)[0:5])    \n",
    "df_lemon['A day 1'] = df_lemon['lemon1']\n",
    "df = pd.merge(df, df_lemon[['ids', 'A day 1']], on=['ids'], how='outer')\n",
    "\n",
    "df_lemon = pd.read_csv(fileLemon, parse_dates=['lemon2'], dayfirst=True)\n",
    "df_lemon['ids'] = df_lemon['ids'].map(lambda x: str(x)[0:5])\n",
    "df_lemon['A day 2'] = df_lemon['lemon2']\n",
    "df = pd.merge(df, df_lemon[['ids', 'A day 2']], on=['ids'], how='outer')\n",
    "\n",
    "df_lemon = pd.read_csv(fileLemon, parse_dates=['lemon3'], dayfirst=True)\n",
    "df_lemon['ids'] = df_lemon['ids'].map(lambda x: str(x)[0:5])\n",
    "df_lemon['A day 3'] = df_lemon['lemon3']\n",
    "df = pd.merge(df, df_lemon[['ids', 'A day 3']], on=['ids'], how='outer')\n",
    "del df_lemon\n",
    "\n",
    "# calculate time interval between scanning and other surveys\n",
    "df['B scanning day'] = df['B Quest set 3']\n",
    "df['B Quest set 1'] = (pd.Series(df['B Quest set 1'] - df['B scanning day']).dt.days/7).round()\n",
    "df['B Quest set 2'] = (pd.Series(df['B Quest set 2'] - df['B scanning day']).dt.days/7).round()\n",
    "df['B Quest set 3'] = (pd.Series(df['B Quest set 3'] - df['B scanning day']).dt.days/7).round()\n",
    "df['B Quest set 4'] = (pd.Series(df['B Quest set 4'] - df['B scanning day']).dt.days/7).round()\n",
    "df['B Quest set 5'] = (pd.Series(df['B Quest set 5'] - df['B scanning day']).dt.days/7).round()\n",
    "df['B Test set 1'] = (pd.Series(df['B Test set 1'] - df['B scanning day']).dt.days/7).round()\n",
    "df['B Test set 2'] = (pd.Series(df['B Test set 2'] - df['B scanning day']).dt.days/7).round()\n",
    "\n",
    "# day of lemon scan\n",
    "df['A scanning day'] = df['A day 1']\n",
    "df['A day 1'] = (pd.Series(df['A day 1'] - df['A scanning day']).dt.days/7).round()\n",
    "df['A day 2'] = (pd.Series(df['A day 2'] - df['A scanning day']).dt.days/7).round()\n",
    "df['A day 3'] = (pd.Series(df['A day 3'] - df['A scanning day']).dt.days/7).round()\n",
    "\n",
    "# rename IDs\n",
    "converter = pd.read_excel('/nobackup/adenauer2/LSD/Originals/Documentation/lookup_table.xlsx',\n",
    "                                  converters={'ids_probanden_db' : str, 'ids_xnat_publicp' : str})\n",
    "converter_dict = dict(zip(converter['ids_probanden_db'], converter['ids_xnat_publicp']))\n",
    "df.replace({'ids':converter_dict}, inplace=True)\n",
    "\n",
    "df_meta = pd.merge(df_meta, df[['ids', 'B Quest set 1', 'B Quest set 2',\n",
    "                                'B Quest set 3', 'B Quest set 4', 'B Quest set 5', \n",
    "                                'B Test set 1', 'B Test set 2', \n",
    "                                'A day 1', 'A day 2', 'A day 3']], \n",
    "                   on='ids', how='left')\n",
    "'''"
   ]
  },
  {
   "cell_type": "markdown",
   "metadata": {},
   "source": [
    "## Meta-file"
   ]
  },
  {
   "cell_type": "code",
   "execution_count": 4,
   "metadata": {
    "collapsed": false
   },
   "outputs": [],
   "source": [
    "# columns and subjects to be included in metafile\n",
    "\n",
    "cols_export = ['ids', 'gender', 'age (5-year bins)',\n",
    "               'SKID diagnosis 1', 'SKID diagnosis 2',\n",
    "               'drug test 1 (before first MRI measurement)',\n",
    "               'drug test 2 (before 4 resting state scans)']\n",
    "\n",
    "# subjects with at least one of the two mri sessions\n",
    "subjects = pd.read_csv('%s/subjects_mri' % doc_dir,\n",
    "                   header=None, dtype=str)\n",
    "\n",
    "# rename IDs\n",
    "converter = pd.read_excel('/Users/dmargulies/Downloads/lookup_table.xlsx', #%s/lookup_table.xlsx' % doc_dir, \n",
    "                          converters={'ids_probanden_db' : str, 'ids_xnat_publicp' : str})\n",
    "converter_dict = dict(zip(converter['ids_probanden_db'], converter['ids_xnat_publicp']))\n",
    "subjects.replace({0:converter_dict}, inplace=True)\n",
    "subjects = subjects[0]\n",
    "\n",
    "#df_meta[cols_export][df_meta['ids'].isin(subjects)].to_csv('/home/raid3/oligschlager/Downloads/metafile.csv')\n",
    "\n"
   ]
  },
  {
   "cell_type": "markdown",
   "metadata": {},
   "source": [
    "## Core sample reported in manuscript"
   ]
  },
  {
   "cell_type": "code",
   "execution_count": 5,
   "metadata": {
    "collapsed": false
   },
   "outputs": [
    {
     "name": "stdout",
     "output_type": "stream",
     "text": [
      "0 scans: 119 subjects\n",
      "1 scans: 1 subjects\n",
      "2 scans: 1 subjects\n",
      "3 scans: 3 subjects\n",
      "4 scans: 194 subjects\n"
     ]
    }
   ],
   "source": [
    "# number of subjects with 2nd-session mri only, per number of scans\n",
    "\n",
    "subjects_2nd = pd.read_csv('%s/lemon_lsd_scanlist.csv' % doc_dir,\n",
    "                         dtype={'ID': str})\n",
    "subjects_2nd.replace({'ID':converter_dict}, inplace=True)\n",
    "\n",
    "\n",
    "for n in range(5):\n",
    "    print n, 'scans:', subjects_2nd.ID[subjects_2nd['RS_ses-02'] == n].shape[0], 'subjects'"
   ]
  },
  {
   "cell_type": "code",
   "execution_count": 6,
   "metadata": {
    "collapsed": false
   },
   "outputs": [
    {
     "name": "stdout",
     "output_type": "stream",
     "text": [
      "\n",
      "N = 194\n",
      "\n",
      "group average mean age    34.398944\n",
      "dtype: float64\n",
      "\n",
      "group median mean age    26.94589\n",
      "dtype: float64\n",
      "\n",
      "group min mean age    20.899087\n",
      "dtype: float64\n",
      "\n",
      "group max mean age    75.89863\n",
      "dtype: float64\n",
      "\n",
      "group std mean age    16.381631\n",
      "dtype: float64\n",
      "\n",
      "female N = 91\n"
     ]
    }
   ],
   "source": [
    "# reporting sample consisting of subjects with all 4 scans of the 2nd session\n",
    "n_scans = 4\n",
    "\n",
    "sample = list(subjects_2nd.ID[subjects_2nd['RS_ses-02'] >= n_scans])\n",
    "\n",
    "# 'mean age' col refers to the participants mean age over the whole study duration\n",
    "print '\\nN =', len(sample)\n",
    "print '\\ngroup average', df_meta[['mean age']][df_meta['ids'].isin(sample)].mean()\n",
    "print '\\ngroup median', df_meta[['mean age']][df_meta['ids'].isin(sample)].median()\n",
    "print '\\ngroup min', df_meta[['mean age']][df_meta['ids'].isin(sample)].min()\n",
    "print '\\ngroup max', df_meta[['mean age']][df_meta['ids'].isin(sample)].max()\n",
    "print '\\ngroup std', df_meta[['mean age']][df_meta['ids'].isin(sample)].std()\n",
    "print '\\nfemale N =', df_meta[['gender']][(df_meta['ids'].isin(sample)) &\n",
    "                                          (df_meta['gender']==1)].shape[0]"
   ]
  },
  {
   "cell_type": "code",
   "execution_count": 7,
   "metadata": {
    "collapsed": false
   },
   "outputs": [
    {
     "data": {
      "text/plain": [
       "105"
      ]
     },
     "execution_count": 7,
     "metadata": {},
     "output_type": "execute_result"
    }
   ],
   "source": [
    "# sample overlap of 1st and 2nd session (4 scans)\n",
    "\n",
    "# subjects with 4 lsd and 1 lemon scan\n",
    "\n",
    "subjects_2nd[(subjects_2nd['RS_ses-02'] == 4) &\n",
    "             (subjects_2nd['RS_ses-01'] == 1) & \n",
    "             (subjects_2nd['T1w'] == 1)].shape[0]"
   ]
  },
  {
   "cell_type": "markdown",
   "metadata": {},
   "source": [
    "## Figures: sample demographics"
   ]
  },
  {
   "cell_type": "code",
   "execution_count": 8,
   "metadata": {
    "collapsed": false
   },
   "outputs": [
    {
     "name": "stderr",
     "output_type": "stream",
     "text": [
      "/Applications/miniconda3/envs/topography/lib/python2.7/site-packages/ipykernel/__main__.py:3: SettingWithCopyWarning: \n",
      "A value is trying to be set on a copy of a slice from a DataFrame.\n",
      "Try using .loc[row_indexer,col_indexer] = value instead\n",
      "\n",
      "See the caveats in the documentation: http://pandas.pydata.org/pandas-docs/stable/indexing.html#indexing-view-versus-copy\n",
      "  app.launch_new_instance()\n",
      "/Applications/miniconda3/envs/topography/lib/python2.7/site-packages/ipykernel/__main__.py:4: SettingWithCopyWarning: \n",
      "A value is trying to be set on a copy of a slice from a DataFrame.\n",
      "Try using .loc[row_indexer,col_indexer] = value instead\n",
      "\n",
      "See the caveats in the documentation: http://pandas.pydata.org/pandas-docs/stable/indexing.html#indexing-view-versus-copy\n"
     ]
    }
   ],
   "source": [
    "# subjects with all 4 scans of 2nd session (see above)\n",
    "df_fig = df_meta[df_meta['ids'].isin(sample)]\n",
    "df_fig['gender'] = df_fig['gender'].replace(1, 'Female')\n",
    "df_fig['gender'] = df_fig['gender'].replace(2, 'Male')"
   ]
  },
  {
   "cell_type": "code",
   "execution_count": 9,
   "metadata": {
    "collapsed": false
   },
   "outputs": [
    {
     "name": "stderr",
     "output_type": "stream",
     "text": [
      "/usr/local/lib/python2.7/site-packages/matplotlib/__init__.py:892: UserWarning: axes.color_cycle is deprecated and replaced with axes.prop_cycle; please use the latter.\n",
      "  warnings.warn(self.msg_depr % (key, alt_key))\n"
     ]
    },
    {
     "data": {
      "image/png": "[encoded data removed]",
      "text/plain": [
       "<matplotlib.figure.Figure at 0x107950710>"
      ]
     },
     "metadata": {},
     "output_type": "display_data"
    }
   ],
   "source": [
    "fig = sns.countplot(x='age (5-year bins)', hue='gender', \n",
    "              data=df_fig.sort_values(by=['age (5-year bins)'], ascending=[1]))\n",
    "fig.legend(loc='upper right')\n",
    "fig.set_xlabel('age (years)')\n",
    "fig.set_ylabel('number of participants')\n",
    "f = fig.get_xticklabels()\n",
    "fig.set_xticklabels(f[0:12])\n",
    "fig.set_xlim([-1,12])\n",
    "\n",
    "plt.savefig(\"Figure_distribution.svg\")\n",
    "plt.savefig(\"Figure_distribution.pdf\")\n",
    "plt.savefig(\"Figure_distribution.png\")\n",
    "plt.savefig(\"Figure_distribution.jpeg\")\n",
    "plt.show()"
   ]
  },
  {
   "cell_type": "code",
   "execution_count": null,
   "metadata": {
    "collapsed": false
   },
   "outputs": [],
   "source": [
    "#for n in [1, 2]:\n",
    "#    sns.distplot(df_fig['mean age'][df_fig['gender']==n], kde=True, hist=False)\n",
    "\n",
    "# sns.violinplot(x='gender', y='mean age', data=df_fig)"
   ]
  },
  {
   "cell_type": "code",
   "execution_count": null,
   "metadata": {
    "collapsed": true
   },
   "outputs": [],
   "source": []
  }
 ],
 "metadata": {
  "kernelspec": {
   "display_name": "Python 2",
   "language": "python",
   "name": "python2"
  },
  "language_info": {
   "codemirror_mode": {
    "name": "ipython",
    "version": 2
   },
   "file_extension": ".py",
   "mimetype": "text/x-python",
   "name": "python",
   "nbconvert_exporter": "python",
   "pygments_lexer": "ipython2",
   "version": "2.7.12"
  }
 },
 "nbformat": 4,
 "nbformat_minor": 0
}
